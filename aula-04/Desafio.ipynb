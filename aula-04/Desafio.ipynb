{
 "cells": [
  {
   "cell_type": "code",
   "execution_count": 2,
   "metadata": {
    "id": "YNRdK04RNOAy"
   },
   "outputs": [
    {
     "name": "stdout",
     "output_type": "stream",
     "text": [
      "models/gemini-1.0-pro\n",
      "models/gemini-1.0-pro-001\n",
      "models/gemini-1.0-pro-latest\n",
      "models/gemini-1.0-pro-vision-latest\n",
      "models/gemini-1.5-pro-latest\n",
      "models/gemini-pro\n",
      "models/gemini-pro-vision\n"
     ]
    },
    {
     "name": "stdout",
     "output_type": "stream",
     "text": [
      "Esperando prompt:  Boas práticas de programação\n"
     ]
    },
    {
     "name": "stdout",
     "output_type": "stream",
     "text": [
      "Resposta: **Princípios Gerais**\n",
      "\n",
      "* **Legibilidade:** Escreva código claro e fácil de entender por outros.\n",
      "* **Manutenibilidade:** Torne o código fácil de modificar e manter.\n",
      "* **Reutilização:** Evite duplicação de código e promova a reutilização.\n",
      "* **Teste:** Teste o código regularmente para garantir sua funcionalidade.\n",
      "* **Documentação:** Documente o código para explicar seu propósito e uso.\n",
      "\n",
      "**Convenções de Codificação**\n",
      "\n",
      "* **Estilo de Indentação:** Use espaços ou tabulações consistentes para melhorar a legibilidade.\n",
      "* **Nomes de Variáveis:** Escolha nomes de variáveis significativos e descritivos.\n",
      "* **Formatação de Código:** Use formatadores de código para garantir consistência e estilo.\n",
      "* **Comentários:** Adicione comentários para explicar seções complexas de código ou fornecer contexto.\n",
      "* **Convenções de Nomenclatura:** Siga convenções de nomenclatura padrão para classes, métodos e variáveis.\n",
      "\n",
      "**Design de Código**\n",
      "\n",
      "* **Princípio da Responsabilidade Única:** Cada classe ou módulo deve ter uma única responsabilidade bem definida.\n",
      "* **Princípio Aberto/Fechado:** O código deve ser aberto para extensão, mas fechado para modificação.\n",
      "* **Coesão e Acoplamento:** Mantenha as classes e módulos altamente coesos (relacionados) e fracamente acoplados (dependentes).\n",
      "* **Padrões de Design:** Use padrões de design para resolver problemas comuns de programação e melhorar a qualidade do código.\n",
      "* **Refatoração:** Refaça o código regularmente para melhorar sua estrutura e legibilidade.\n",
      "\n",
      "**Testes**\n",
      "\n",
      "* **Testes Unitários:** Escreva testes unitários para verificar a funcionalidade de unidades individuais de código.\n",
      "* **Testes de Integração:** Teste como diferentes módulos de código interagem entre si.\n",
      "* **Testes de Aceitação:** Verifique se o código atende aos requisitos do usuário.\n",
      "* **Cobertura de Teste:** Escreva testes para cobrir o máximo possível do código.\n",
      "* **Ferramentas de Teste Automático:** Use ferramentas de teste automático para executar testes com eficiência.\n",
      "\n",
      "**Segurança**\n",
      "\n",
      "* **Validação de Entrada:** Valide a entrada do usuário para evitar vulnerabilidades de segurança.\n",
      "* **Saída Sanitizada:** Sanitize a saída para evitar ataques de injeção.\n",
      "* **Criptografia:** Use criptografia para proteger dados confidenciais.\n",
      "* **Gestão de Erros:** Manipule erros com segurança para evitar vazamentos de informações.\n",
      "* **Revisão de Segurança:** Revise o código regularmente para identificar e corrigir vulnerabilidades de segurança. \n",
      "\n"
     ]
    },
    {
     "name": "stdout",
     "output_type": "stream",
     "text": [
      "Esperando prompt:  fim\n"
     ]
    },
    {
     "name": "stdout",
     "output_type": "stream",
     "text": [
      "ChatSession(\n",
      "    model=genai.GenerativeModel(\n",
      "        model_name='models/gemini-1.0-pro',\n",
      "        generation_config={'candidate_count': 1, 'temperature': 0.5},\n",
      "        safety_settings={},\n",
      "        tools=None,\n",
      "        system_instruction=None,\n",
      "    ),\n",
      "    history=[glm.Content({'parts': [{'text': 'Boas práticas de programação'}], 'role': 'user'}), glm.Content({'parts': [{'text': '**Princípios...de segurança.'}], 'role': 'model'})]\n",
      ")\n",
      "[parts {\n",
      "  text: \"Boas práticas de programação\"\n",
      "}\n",
      "role: \"user\"\n",
      ", parts {\n",
      "  text: \"**Princípios Gerais**\\n\\n* **Legibilidade:** Escreva código claro e fácil de entender por outros.\\n* **Manutenibilidade:** Torne o código fácil de modificar e manter.\\n* **Reutilização:** Evite duplicação de código e promova a reutilização.\\n* **Teste:** Teste o código regularmente para garantir sua funcionalidade.\\n* **Documentação:** Documente o código para explicar seu propósito e uso.\\n\\n**Convenções de Codificação**\\n\\n* **Estilo de Indentação:** Use espaços ou tabulações consistentes para melhorar a legibilidade.\\n* **Nomes de Variáveis:** Escolha nomes de variáveis significativos e descritivos.\\n* **Formatação de Código:** Use formatadores de código para garantir consistência e estilo.\\n* **Comentários:** Adicione comentários para explicar seções complexas de código ou fornecer contexto.\\n* **Convenções de Nomenclatura:** Siga convenções de nomenclatura padrão para classes, métodos e variáveis.\\n\\n**Design de Código**\\n\\n* **Princípio da Responsabilidade Única:** Cada classe ou módulo deve ter uma única responsabilidade bem definida.\\n* **Princípio Aberto/Fechado:** O código deve ser aberto para extensão, mas fechado para modificação.\\n* **Coesão e Acoplamento:** Mantenha as classes e módulos altamente coesos (relacionados) e fracamente acoplados (dependentes).\\n* **Padrões de Design:** Use padrões de design para resolver problemas comuns de programação e melhorar a qualidade do código.\\n* **Refatoração:** Refaça o código regularmente para melhorar sua estrutura e legibilidade.\\n\\n**Testes**\\n\\n* **Testes Unitários:** Escreva testes unitários para verificar a funcionalidade de unidades individuais de código.\\n* **Testes de Integração:** Teste como diferentes módulos de código interagem entre si.\\n* **Testes de Aceitação:** Verifique se o código atende aos requisitos do usuário.\\n* **Cobertura de Teste:** Escreva testes para cobrir o máximo possível do código.\\n* **Ferramentas de Teste Automático:** Use ferramentas de teste automático para executar testes com eficiência.\\n\\n**Segurança**\\n\\n* **Validação de Entrada:** Valide a entrada do usuário para evitar vulnerabilidades de segurança.\\n* **Saída Sanitizada:** Sanitize a saída para evitar ataques de injeção.\\n* **Criptografia:** Use criptografia para proteger dados confidenciais.\\n* **Gestão de Erros:** Manipule erros com segurança para evitar vazamentos de informações.\\n* **Revisão de Segurança:** Revise o código regularmente para identificar e corrigir vulnerabilidades de segurança.\"\n",
      "}\n",
      "role: \"model\"\n",
      "]\n"
     ]
    },
    {
     "data": {
      "text/markdown": [
       "> **user**: Boas práticas de programação"
      ],
      "text/plain": [
       "<IPython.core.display.Markdown object>"
      ]
     },
     "metadata": {},
     "output_type": "display_data"
    },
    {
     "name": "stdout",
     "output_type": "stream",
     "text": [
      "-------------------------------------------\n"
     ]
    },
    {
     "data": {
      "text/markdown": [
       "> **model**: **Princípios Gerais**\n",
       "> \n",
       "> * **Legibilidade:** Escreva código claro e fácil de entender por outros.\n",
       "> * **Manutenibilidade:** Torne o código fácil de modificar e manter.\n",
       "> * **Reutilização:** Evite duplicação de código e promova a reutilização.\n",
       "> * **Teste:** Teste o código regularmente para garantir sua funcionalidade.\n",
       "> * **Documentação:** Documente o código para explicar seu propósito e uso.\n",
       "> \n",
       "> **Convenções de Codificação**\n",
       "> \n",
       "> * **Estilo de Indentação:** Use espaços ou tabulações consistentes para melhorar a legibilidade.\n",
       "> * **Nomes de Variáveis:** Escolha nomes de variáveis significativos e descritivos.\n",
       "> * **Formatação de Código:** Use formatadores de código para garantir consistência e estilo.\n",
       "> * **Comentários:** Adicione comentários para explicar seções complexas de código ou fornecer contexto.\n",
       "> * **Convenções de Nomenclatura:** Siga convenções de nomenclatura padrão para classes, métodos e variáveis.\n",
       "> \n",
       "> **Design de Código**\n",
       "> \n",
       "> * **Princípio da Responsabilidade Única:** Cada classe ou módulo deve ter uma única responsabilidade bem definida.\n",
       "> * **Princípio Aberto/Fechado:** O código deve ser aberto para extensão, mas fechado para modificação.\n",
       "> * **Coesão e Acoplamento:** Mantenha as classes e módulos altamente coesos (relacionados) e fracamente acoplados (dependentes).\n",
       "> * **Padrões de Design:** Use padrões de design para resolver problemas comuns de programação e melhorar a qualidade do código.\n",
       "> * **Refatoração:** Refaça o código regularmente para melhorar sua estrutura e legibilidade.\n",
       "> \n",
       "> **Testes**\n",
       "> \n",
       "> * **Testes Unitários:** Escreva testes unitários para verificar a funcionalidade de unidades individuais de código.\n",
       "> * **Testes de Integração:** Teste como diferentes módulos de código interagem entre si.\n",
       "> * **Testes de Aceitação:** Verifique se o código atende aos requisitos do usuário.\n",
       "> * **Cobertura de Teste:** Escreva testes para cobrir o máximo possível do código.\n",
       "> * **Ferramentas de Teste Automático:** Use ferramentas de teste automático para executar testes com eficiência.\n",
       "> \n",
       "> **Segurança**\n",
       "> \n",
       "> * **Validação de Entrada:** Valide a entrada do usuário para evitar vulnerabilidades de segurança.\n",
       "> * **Saída Sanitizada:** Sanitize a saída para evitar ataques de injeção.\n",
       "> * **Criptografia:** Use criptografia para proteger dados confidenciais.\n",
       "> * **Gestão de Erros:** Manipule erros com segurança para evitar vazamentos de informações.\n",
       "> * **Revisão de Segurança:** Revise o código regularmente para identificar e corrigir vulnerabilidades de segurança."
      ],
      "text/plain": [
       "<IPython.core.display.Markdown object>"
      ]
     },
     "metadata": {},
     "output_type": "display_data"
    },
    {
     "name": "stdout",
     "output_type": "stream",
     "text": [
      "-------------------------------------------\n"
     ]
    }
   ],
   "source": [
    "#Instalando o SDK do Google\n",
    "!pip install -q -U google-generativeai\n",
    "\n",
    "# Configurações iniciais\n",
    "import google.generativeai as genai\n",
    "\n",
    "# Configurando API KEY\n",
    "\n",
    "from google.colab import userdata\n",
    "api_key = userdata.get(\"SECURITY_KEY\")\n",
    "genai.configure(api_key=api_key)\n",
    "\n",
    "# Listando modelos disponiveis\n",
    "\n",
    "for m in genai.list_models():\n",
    "  if 'generateContent' in m.supported_generation_methods:\n",
    "    print(m.name)\n",
    "\n",
    "# Configurando váriaveis para gerar o conteúdo \n",
    "\n",
    "generation_config = {\n",
    "  \"candidate_count\": 1,\n",
    "  \"temperature\": 0.5,\n",
    "}\n",
    "\n",
    "# Selecionando o modelo do Google AI que será utilizado\n",
    "\n",
    "model = genai.GenerativeModel(model_name='gemini-1.0-pro',\n",
    "                                  generation_config=generation_config,)\n",
    "\n",
    "# Definido a variável que será utilizada como chat\n",
    "chat = model.start_chat(history=[])\n",
    "\n",
    "prompt = input('Esperando prompt: ')\n",
    "\n",
    "# Definindo comando para parar a execução\n",
    "while prompt != \"fim\":\n",
    "  response = chat.send_message(prompt)\n",
    "  print(\"Resposta:\", response.text, '\\n')\n",
    "  prompt = input('Esperando prompt: ')\n",
    "\n",
    "# Impressão simples na tela\n",
    "print(chat)\n",
    "\n",
    "print (chat.history)\n",
    "\n",
    "\n",
    "# Melhorando a visualização\n",
    "# Código disponível em https://ai.google.dev/tutorials/python_quickstart#import_packages\n",
    "import textwrap\n",
    "from IPython.display import display\n",
    "from IPython.display import Markdown\n",
    "\n",
    "def to_markdown(text):\n",
    "  text = text.replace('•', '  *')\n",
    "  return Markdown(textwrap.indent(text, '> ', predicate=lambda _: True))\n",
    "\n",
    "#Imprimindo o histórico\n",
    "for message in chat.history:\n",
    "  display(to_markdown(f'**{message.role}**: {message.parts[0].text}'))\n",
    "  print('-------------------------------------------')\n"
   ]
  }
 ],
 "metadata": {
  "colab": {
   "provenance": []
  },
  "kernelspec": {
   "display_name": "Python 3 (ipykernel)",
   "language": "python",
   "name": "python3"
  },
  "language_info": {
   "codemirror_mode": {
    "name": "ipython",
    "version": 3
   },
   "file_extension": ".py",
   "mimetype": "text/x-python",
   "name": "python",
   "nbconvert_exporter": "python",
   "pygments_lexer": "ipython3",
   "version": "3.12.3"
  }
 },
 "nbformat": 4,
 "nbformat_minor": 4
}
